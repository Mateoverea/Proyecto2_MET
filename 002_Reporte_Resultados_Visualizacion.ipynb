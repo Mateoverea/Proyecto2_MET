{
 "cells": [
  {
   "cell_type": "markdown",
   "id": "28fce575",
   "metadata": {},
   "source": [
    "## Introducción\n",
    "Analisis Tecnico de estrategia de trading implementada en Python. El objetivo principal es evaluar la efectividad de la estrategia y comparar su rendimiento con un enfoque pasivo de inversión. Además, se describirá en detalle la metodología utilizada y se presentarán los resultados obtenidos a partir del análisis de datos."
   ]
  },
  {
   "cell_type": "markdown",
   "id": "f170887d",
   "metadata": {},
   "source": [
    "## Metodología\n",
    "\n",
    "### Conjunto de Datos Utilizados\n",
    "\n",
    "Conjunto de datos de entrenamiento: \"aapl_5m_train.csv\"\n",
    "\n",
    "Conjunto de datos de validación: \"aapl_5m_validation.csv\"\n",
    "\n",
    "### Definición de la Estrategia\n",
    "\n",
    "La estrategia de trading se basa en una serie de indicadores técnicos comunes utilizados en el análisis técnico de acciones. \n",
    "\n",
    "Los indicadores clave incluyen:\n",
    "\n",
    "- Medias Móviles *(SMA)*\n",
    "- MACD *(Moving Average Convergence Divergence)*\n",
    "- RSI *(Relative Strength Index)*\n",
    "- Bandas de Bollinger\n",
    "- La estrategia busca generar señales de compra y venta en función de estos indicadores técnicos. Las señales se generan cuando se cumplen ciertos criterios predefinidos, como cruces de medias móviles y niveles de RSI.\n",
    "\n"
   ]
  },
  {
   "cell_type": "markdown",
   "id": "e97b9734",
   "metadata": {},
   "source": [
    "### Análisis\n",
    "\n",
    "El análisis de la estrategia se divide en varios pasos:\n",
    "\n",
    "**Paso 1: Cálculo de Indicadores Técnicos**\n",
    "\n",
    "Se calculan los indicadores técnicos mencionados anteriormente en el conjunto de datos de entrenamiento.\n",
    "\n",
    "**Paso 2: Generación de Señales de Compra y Venta**\n",
    "\n",
    "Se generan señales de compra y venta en función de los indicadores técnicos calculados. Las señales se basan en reglas predefinidas.\n",
    "\n",
    "**Paso 3: Simulación de Operaciones (Backtesting)**\n",
    "\n",
    "Se simulan operaciones de compra y venta en el conjunto de datos de entrenamiento utilizando las señales generadas.\n",
    "Se realiza un seguimiento de las operaciones y se calcula el rendimiento del portafolio a lo largo del tiempo.\n",
    "\n",
    "**Paso 4: Optimización de Parámetros**\n",
    "\n",
    "Se realizan múltiples iteraciones de la estrategia con diferentes combinaciones de parámetros.\n",
    "Se busca la combinación de parámetros que maximice el rendimiento del portafolio."
   ]
  },
  {
   "cell_type": "markdown",
   "id": "a7c88be2",
   "metadata": {},
   "source": [
    "### Resultados y Visualizacion"
   ]
  },
  {
   "cell_type": "code",
   "execution_count": null,
   "id": "acbb64b0",
   "metadata": {},
   "outputs": [],
   "source": [
    "# Librerias para la visualizacion\n",
    "# Correr codigo completo antes\n",
    "import matplotlib.pyplot as plt\n",
    "import mplfinance as mpf\n",
    "import pandas as pd"
   ]
  },
  {
   "cell_type": "markdown",
   "id": "9da443a8",
   "metadata": {},
   "source": [
    "**Gráficos de Velas**\n",
    "\n",
    "Gráficos que muestran la evolución de los precios del activo financiero a lo largo del tiempo."
   ]
  },
  {
   "cell_type": "code",
   "execution_count": null,
   "id": "e0bcdd26",
   "metadata": {},
   "outputs": [],
   "source": [
    "# Gráfico de velas para los datos de entrenamiento\n",
    "mpf.plot(datatrain, type='candle', style='yahoo', title=\"Apple Candlestick Chart (Entrenamiento)\", ylabel=\"Precio\")\n",
    "\n",
    "# Gráfico de velas para los datos de validación\n",
    "mpf.plot(dataval, type='candle', style='yahoo', title=\"Apple Candlestick Chart (Validación)\", ylabel=\"Precio\")\n",
    "\n",
    "plt.show()"
   ]
  },
  {
   "cell_type": "markdown",
   "id": "e006fb38",
   "metadata": {},
   "source": [
    "**Gráficos de Indicadores Técnicos**\n",
    "\n",
    "Gráficos que representan los valores de los indicadores técnicos utilizados en la estrategia."
   ]
  },
  {
   "cell_type": "code",
   "execution_count": null,
   "id": "2b791785",
   "metadata": {},
   "outputs": [],
   "source": [
    "# Gráficos de indicadores para los datos de validación\n",
    "plt.figure(figsize=(12, 6))\n",
    "\n",
    "# Gráfico SMA\n",
    "plt.plot(dataval['short_sma2'], label='SMA 5')\n",
    "plt.plot(dataval['long_sma2'], label='SMA 27')\n",
    "\n",
    "# Gráfico EMA\n",
    "plt.plot(dataval['short_ema2'], label='EMA 4')\n",
    "plt.plot(dataval['long_ema2'], label='EMA 18')\n",
    "\n",
    "# Gráfico RSI\n",
    "plt.plot(dataval['RSI2'], label='RSI')\n",
    "plt.axhline(y=16, color='r', linestyle='--', label='RSI Low')\n",
    "plt.axhline(y=93, color='g', linestyle='--', label='RSI High')\n",
    "\n",
    "# Gráfico Bollinger Bands\n",
    "plt.plot(dataval['bollinger2'], label='Bollinger Bands')\n",
    "\n",
    "# Gráfico MACD\n",
    "plt.plot(dataval['MACD2'], label='MACD')\n",
    "plt.plot(dataval['MACDS2'], label='Signal Line')\n",
    "\n",
    "plt.title(\"Indicadores Técnicos (Validación)\")\n",
    "plt.xlabel(\"Fecha\")\n",
    "plt.ylabel(\"Valor\")\n",
    "plt.legend()\n",
    "plt.grid(True)\n",
    "\n",
    "plt.show()"
   ]
  },
  {
   "cell_type": "markdown",
   "id": "471eac4b",
   "metadata": {},
   "source": [
    "**Lista de Operaciones**\n",
    "\n",
    "Una lista que detalla todas las operaciones realizadas durante el backtesting, incluyendo los precios de entrada y salida."
   ]
  },
  {
   "cell_type": "code",
   "execution_count": null,
   "id": "f97347cf",
   "metadata": {},
   "outputs": [],
   "source": [
    "# Gráfico de señales de trading (compra y venta) para los datos de validación\n",
    "plt.figure(figsize=(12, 6))\n",
    "plt.plot(dataval.index, dataval['buy_signal_sma2'], label='Señal de Compra (SMA)')\n",
    "plt.plot(dataval.index, dataval['sell_signal_sma2'], label='Señal de Venta (SMA)')\n",
    "plt.plot(dataval.index, dataval['buy_signal_ema2'], label='Señal de Compra (EMA)')\n",
    "plt.plot(dataval.index, dataval['sell_signal_ema2'], label='Señal de Venta (EMA)')\n",
    "plt.plot(dataval.index, dataval['buy_signal_rsi2'], label='Señal de Compra (RSI)')\n",
    "plt.plot(dataval.index, dataval['sell_signal_rsi2'], label='Señal de Venta (RSI)')\n",
    "plt.plot(dataval.index, dataval['buy_signal_bollinger2'], label='Señal de Compra (Bollinger Bands)')\n",
    "plt.plot(dataval.index, dataval['sell_signal_bollinger2'], label='Señal de Venta (Bollinger Bands)')\n",
    "plt.plot(dataval.index, dataval['buy_signal_MACD2'], label='Señal de Compra (MACD)')\n",
    "plt.plot(dataval.index, dataval['sell_signal_MACD2'], label='Señal de Venta (MACD)')\n",
    "plt.title(\"Señales de Trading (Validación)\")\n",
    "plt.xlabel(\"Fecha\")\n",
    "plt.ylabel(\"Señal\")\n",
    "plt.legend()\n",
    "plt.grid(True)\n",
    "\n",
    "plt.show()"
   ]
  },
  {
   "cell_type": "markdown",
   "id": "f6db615e",
   "metadata": {},
   "source": [
    "**Gráfico del Valor del Portafolio**\n",
    "\n",
    "Un gráfico que muestra cómo evoluciona el valor del portafolio a medida que se realizan operaciones."
   ]
  },
  {
   "cell_type": "code",
   "execution_count": null,
   "id": "08637e3f",
   "metadata": {},
   "outputs": [],
   "source": [
    "# Gráfico de cash a lo largo del tiempo\n",
    "cash_values = []  # Falta agregar lista\n",
    "plt.figure(figsize=(12, 6))\n",
    "plt.plot(dataval.index, cash_values, label='Cash')\n",
    "plt.title(\"Cash\")\n",
    "plt.xlabel(\"Fecha\")\n",
    "plt.ylabel(\"Valor del Cash\")\n",
    "plt.legend()\n",
    "plt.grid(True)\n",
    "\n",
    "# Gráfico de portfolio a lo largo del tiempo\n",
    "portfolio_values = []  # Falta agregar lista\n",
    "plt.figure(figsize=(12, 6))\n",
    "plt.plot(dataval.index, portfolio_values, label='Portfolio', color='b')\n",
    "plt.title(\"Portafolio\")\n",
    "plt.xlabel(\"Fecha\")\n",
    "plt.ylabel(\"Valor del Portfolio\")\n",
    "plt.legend()\n",
    "plt.grid(True)\n",
    "\n",
    "plt.show()\n"
   ]
  },
  {
   "cell_type": "code",
   "execution_count": null,
   "id": "a13ffcb7",
   "metadata": {},
   "outputs": [],
   "source": []
  },
  {
   "cell_type": "code",
   "execution_count": null,
   "id": "784a92bb",
   "metadata": {},
   "outputs": [],
   "source": []
  },
  {
   "cell_type": "code",
   "execution_count": null,
   "id": "ff510b09",
   "metadata": {},
   "outputs": [],
   "source": []
  }
 ],
 "metadata": {
  "kernelspec": {
   "display_name": "Python 3 (ipykernel)",
   "language": "python",
   "name": "python3"
  },
  "language_info": {
   "codemirror_mode": {
    "name": "ipython",
    "version": 3
   },
   "file_extension": ".py",
   "mimetype": "text/x-python",
   "name": "python",
   "nbconvert_exporter": "python",
   "pygments_lexer": "ipython3",
   "version": "3.11.5"
  }
 },
 "nbformat": 4,
 "nbformat_minor": 5
}
